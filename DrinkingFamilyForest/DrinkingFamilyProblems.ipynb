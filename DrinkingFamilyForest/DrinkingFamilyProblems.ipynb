{
 "cells": [
  {
   "cell_type": "code",
   "execution_count": 3,
   "metadata": {
    "collapsed": true
   },
   "outputs": [],
   "source": [
    "from pandas import Series, DataFrame\n",
    "import pandas as pd\n",
    "import numpy as np\n",
    "import os\n",
    "import matplotlib.pylab as plt\n",
    "from sklearn.cross_validation import train_test_split\n",
    "from sklearn.tree import DecisionTreeClassifier\n",
    "from sklearn.metrics import classification_report\n",
    "import sklearn.metrics\n",
    " # Feature Importance\n",
    "from sklearn import datasets\n",
    "from sklearn.ensemble import ExtraTreesClassifier"
   ]
  },
  {
   "cell_type": "code",
   "execution_count": 4,
   "metadata": {
    "collapsed": false
   },
   "outputs": [
    {
     "name": "stderr",
     "output_type": "stream",
     "text": [
      "//anaconda/lib/python3.5/site-packages/IPython/core/interactiveshell.py:2723: DtypeWarning: Columns (76) have mixed types. Specify dtype option on import or set low_memory=False.\n",
      "  interactivity=interactivity, compiler=compiler, result=result)\n"
     ]
    }
   ],
   "source": [
    "#Load the dataset\n",
    "\n",
    "AH_data = pd.read_csv(\"/Users/Rohit/Desktop/nesarc_pds.csv\")\n",
    "data_clean = AH_data.dropna()"
   ]
  },
  {
   "cell_type": "code",
   "execution_count": 5,
   "metadata": {
    "collapsed": false
   },
   "outputs": [
    {
     "data": {
      "text/plain": [
       "ETHRACE2A          int64\n",
       "ETOTLCA2          object\n",
       "IDNUM              int64\n",
       "PSU                int64\n",
       "STRATUM            int64\n",
       "WEIGHT           float64\n",
       "CDAY               int64\n",
       "CMON               int64\n",
       "CYEAR              int64\n",
       "REGION             int64\n",
       "CENDIV             int64\n",
       "CCS                int64\n",
       "FIPSTATE           int64\n",
       "BUILDTYP           int64\n",
       "NUMPERS            int64\n",
       "NUMPER18           int64\n",
       "NUMREL             int64\n",
       "NUMREL18           int64\n",
       "CHLD0              int64\n",
       "CHLD1_4            int64\n",
       "CHLD5_12           int64\n",
       "CHLD13_15          int64\n",
       "CHLD16_17          int64\n",
       "CHLD0_17           int64\n",
       "SPOUSE             int64\n",
       "FATHERIH           int64\n",
       "MOTHERIH           int64\n",
       "ADULTCH            int64\n",
       "OTHREL             int64\n",
       "NONREL             int64\n",
       "                  ...   \n",
       "DEPPDDX2           int64\n",
       "OBCOMDX2           int64\n",
       "PARADX2            int64\n",
       "SCHIZDX2           int64\n",
       "HISTDX2            int64\n",
       "ALCABDEP12DX       int64\n",
       "ALCABDEPP12DX      int64\n",
       "TAB12MDX           int64\n",
       "TABP12MDX          int64\n",
       "TABLIFEDX          int64\n",
       "STIM12ABDEP        int64\n",
       "STIMP12ABDEP       int64\n",
       "PAN12ABDEP         int64\n",
       "PANP12ABDEP        int64\n",
       "SED12ABDEP         int64\n",
       "SEDP12ABDEP        int64\n",
       "TRAN12ABDEP        int64\n",
       "TRANP12ABDEP       int64\n",
       "COC12ABDEP         int64\n",
       "COCP12ABDEP        int64\n",
       "SOL12ABDEP         int64\n",
       "SOLP12ABDEP        int64\n",
       "HAL12ABDEP         int64\n",
       "HALP12ABDEP        int64\n",
       "MAR12ABDEP         int64\n",
       "MARP12ABDEP        int64\n",
       "HER12ABDEP         int64\n",
       "HERP12ABDEP        int64\n",
       "OTHB12ABDEP        int64\n",
       "OTHBP12ABDEP       int64\n",
       "dtype: object"
      ]
     },
     "execution_count": 5,
     "metadata": {},
     "output_type": "execute_result"
    }
   ],
   "source": [
    "data_clean.dtypes"
   ]
  },
  {
   "cell_type": "code",
   "execution_count": 6,
   "metadata": {
    "collapsed": false
   },
   "outputs": [
    {
     "data": {
      "text/html": [
       "<div>\n",
       "<table border=\"1\" class=\"dataframe\">\n",
       "  <thead>\n",
       "    <tr style=\"text-align: right;\">\n",
       "      <th></th>\n",
       "      <th>ETHRACE2A</th>\n",
       "      <th>IDNUM</th>\n",
       "      <th>PSU</th>\n",
       "      <th>STRATUM</th>\n",
       "      <th>WEIGHT</th>\n",
       "      <th>CDAY</th>\n",
       "      <th>CMON</th>\n",
       "      <th>CYEAR</th>\n",
       "      <th>REGION</th>\n",
       "      <th>CENDIV</th>\n",
       "      <th>...</th>\n",
       "      <th>SOL12ABDEP</th>\n",
       "      <th>SOLP12ABDEP</th>\n",
       "      <th>HAL12ABDEP</th>\n",
       "      <th>HALP12ABDEP</th>\n",
       "      <th>MAR12ABDEP</th>\n",
       "      <th>MARP12ABDEP</th>\n",
       "      <th>HER12ABDEP</th>\n",
       "      <th>HERP12ABDEP</th>\n",
       "      <th>OTHB12ABDEP</th>\n",
       "      <th>OTHBP12ABDEP</th>\n",
       "    </tr>\n",
       "  </thead>\n",
       "  <tbody>\n",
       "    <tr>\n",
       "      <th>count</th>\n",
       "      <td>43093.000000</td>\n",
       "      <td>43093.000000</td>\n",
       "      <td>43093.000000</td>\n",
       "      <td>43093.000000</td>\n",
       "      <td>43093.000000</td>\n",
       "      <td>43093.000000</td>\n",
       "      <td>43093.000000</td>\n",
       "      <td>43093.000000</td>\n",
       "      <td>43093.000000</td>\n",
       "      <td>43093.000000</td>\n",
       "      <td>...</td>\n",
       "      <td>43093.000000</td>\n",
       "      <td>43093.000000</td>\n",
       "      <td>43093.000000</td>\n",
       "      <td>43093.000000</td>\n",
       "      <td>43093.000000</td>\n",
       "      <td>43093.000000</td>\n",
       "      <td>43093.000000</td>\n",
       "      <td>43093.000000</td>\n",
       "      <td>43093.000000</td>\n",
       "      <td>43093.000000</td>\n",
       "    </tr>\n",
       "    <tr>\n",
       "      <th>mean</th>\n",
       "      <td>2.087764</td>\n",
       "      <td>21547.000000</td>\n",
       "      <td>27312.909544</td>\n",
       "      <td>2726.858747</td>\n",
       "      <td>4823.981575</td>\n",
       "      <td>16.146195</td>\n",
       "      <td>8.589632</td>\n",
       "      <td>2001.141578</td>\n",
       "      <td>2.636321</td>\n",
       "      <td>5.142993</td>\n",
       "      <td>...</td>\n",
       "      <td>0.000255</td>\n",
       "      <td>0.003922</td>\n",
       "      <td>0.001532</td>\n",
       "      <td>0.017776</td>\n",
       "      <td>0.018634</td>\n",
       "      <td>0.095027</td>\n",
       "      <td>0.000348</td>\n",
       "      <td>0.004618</td>\n",
       "      <td>0.000093</td>\n",
       "      <td>0.001230</td>\n",
       "    </tr>\n",
       "    <tr>\n",
       "      <th>std</th>\n",
       "      <td>1.560799</td>\n",
       "      <td>12440.021912</td>\n",
       "      <td>16019.733641</td>\n",
       "      <td>1595.979984</td>\n",
       "      <td>3485.046966</td>\n",
       "      <td>8.801055</td>\n",
       "      <td>3.051984</td>\n",
       "      <td>0.348620</td>\n",
       "      <td>1.031667</td>\n",
       "      <td>2.511825</td>\n",
       "      <td>...</td>\n",
       "      <td>0.018655</td>\n",
       "      <td>0.079789</td>\n",
       "      <td>0.050501</td>\n",
       "      <td>0.169523</td>\n",
       "      <td>0.186201</td>\n",
       "      <td>0.383204</td>\n",
       "      <td>0.030082</td>\n",
       "      <td>0.106426</td>\n",
       "      <td>0.015233</td>\n",
       "      <td>0.047429</td>\n",
       "    </tr>\n",
       "    <tr>\n",
       "      <th>min</th>\n",
       "      <td>1.000000</td>\n",
       "      <td>1.000000</td>\n",
       "      <td>1001.000000</td>\n",
       "      <td>101.000000</td>\n",
       "      <td>398.037382</td>\n",
       "      <td>1.000000</td>\n",
       "      <td>1.000000</td>\n",
       "      <td>2001.000000</td>\n",
       "      <td>1.000000</td>\n",
       "      <td>1.000000</td>\n",
       "      <td>...</td>\n",
       "      <td>0.000000</td>\n",
       "      <td>0.000000</td>\n",
       "      <td>0.000000</td>\n",
       "      <td>0.000000</td>\n",
       "      <td>0.000000</td>\n",
       "      <td>0.000000</td>\n",
       "      <td>0.000000</td>\n",
       "      <td>0.000000</td>\n",
       "      <td>0.000000</td>\n",
       "      <td>0.000000</td>\n",
       "    </tr>\n",
       "    <tr>\n",
       "      <th>25%</th>\n",
       "      <td>1.000000</td>\n",
       "      <td>10774.000000</td>\n",
       "      <td>12044.000000</td>\n",
       "      <td>1209.000000</td>\n",
       "      <td>2240.897957</td>\n",
       "      <td>8.000000</td>\n",
       "      <td>8.000000</td>\n",
       "      <td>2001.000000</td>\n",
       "      <td>2.000000</td>\n",
       "      <td>3.000000</td>\n",
       "      <td>...</td>\n",
       "      <td>0.000000</td>\n",
       "      <td>0.000000</td>\n",
       "      <td>0.000000</td>\n",
       "      <td>0.000000</td>\n",
       "      <td>0.000000</td>\n",
       "      <td>0.000000</td>\n",
       "      <td>0.000000</td>\n",
       "      <td>0.000000</td>\n",
       "      <td>0.000000</td>\n",
       "      <td>0.000000</td>\n",
       "    </tr>\n",
       "    <tr>\n",
       "      <th>50%</th>\n",
       "      <td>1.000000</td>\n",
       "      <td>21547.000000</td>\n",
       "      <td>27018.000000</td>\n",
       "      <td>2701.000000</td>\n",
       "      <td>3723.955061</td>\n",
       "      <td>16.000000</td>\n",
       "      <td>9.000000</td>\n",
       "      <td>2001.000000</td>\n",
       "      <td>3.000000</td>\n",
       "      <td>5.000000</td>\n",
       "      <td>...</td>\n",
       "      <td>0.000000</td>\n",
       "      <td>0.000000</td>\n",
       "      <td>0.000000</td>\n",
       "      <td>0.000000</td>\n",
       "      <td>0.000000</td>\n",
       "      <td>0.000000</td>\n",
       "      <td>0.000000</td>\n",
       "      <td>0.000000</td>\n",
       "      <td>0.000000</td>\n",
       "      <td>0.000000</td>\n",
       "    </tr>\n",
       "    <tr>\n",
       "      <th>75%</th>\n",
       "      <td>2.000000</td>\n",
       "      <td>32320.000000</td>\n",
       "      <td>40019.000000</td>\n",
       "      <td>4004.000000</td>\n",
       "      <td>7013.033942</td>\n",
       "      <td>24.000000</td>\n",
       "      <td>10.000000</td>\n",
       "      <td>2001.000000</td>\n",
       "      <td>3.000000</td>\n",
       "      <td>7.000000</td>\n",
       "      <td>...</td>\n",
       "      <td>0.000000</td>\n",
       "      <td>0.000000</td>\n",
       "      <td>0.000000</td>\n",
       "      <td>0.000000</td>\n",
       "      <td>0.000000</td>\n",
       "      <td>0.000000</td>\n",
       "      <td>0.000000</td>\n",
       "      <td>0.000000</td>\n",
       "      <td>0.000000</td>\n",
       "      <td>0.000000</td>\n",
       "    </tr>\n",
       "    <tr>\n",
       "      <th>max</th>\n",
       "      <td>5.000000</td>\n",
       "      <td>43093.000000</td>\n",
       "      <td>56017.000000</td>\n",
       "      <td>5605.000000</td>\n",
       "      <td>57902.204790</td>\n",
       "      <td>31.000000</td>\n",
       "      <td>12.000000</td>\n",
       "      <td>2002.000000</td>\n",
       "      <td>4.000000</td>\n",
       "      <td>9.000000</td>\n",
       "      <td>...</td>\n",
       "      <td>2.000000</td>\n",
       "      <td>3.000000</td>\n",
       "      <td>3.000000</td>\n",
       "      <td>3.000000</td>\n",
       "      <td>3.000000</td>\n",
       "      <td>3.000000</td>\n",
       "      <td>3.000000</td>\n",
       "      <td>3.000000</td>\n",
       "      <td>3.000000</td>\n",
       "      <td>3.000000</td>\n",
       "    </tr>\n",
       "  </tbody>\n",
       "</table>\n",
       "<p>8 rows × 665 columns</p>\n",
       "</div>"
      ],
      "text/plain": [
       "          ETHRACE2A         IDNUM           PSU       STRATUM        WEIGHT  \\\n",
       "count  43093.000000  43093.000000  43093.000000  43093.000000  43093.000000   \n",
       "mean       2.087764  21547.000000  27312.909544   2726.858747   4823.981575   \n",
       "std        1.560799  12440.021912  16019.733641   1595.979984   3485.046966   \n",
       "min        1.000000      1.000000   1001.000000    101.000000    398.037382   \n",
       "25%        1.000000  10774.000000  12044.000000   1209.000000   2240.897957   \n",
       "50%        1.000000  21547.000000  27018.000000   2701.000000   3723.955061   \n",
       "75%        2.000000  32320.000000  40019.000000   4004.000000   7013.033942   \n",
       "max        5.000000  43093.000000  56017.000000   5605.000000  57902.204790   \n",
       "\n",
       "               CDAY          CMON         CYEAR        REGION        CENDIV  \\\n",
       "count  43093.000000  43093.000000  43093.000000  43093.000000  43093.000000   \n",
       "mean      16.146195      8.589632   2001.141578      2.636321      5.142993   \n",
       "std        8.801055      3.051984      0.348620      1.031667      2.511825   \n",
       "min        1.000000      1.000000   2001.000000      1.000000      1.000000   \n",
       "25%        8.000000      8.000000   2001.000000      2.000000      3.000000   \n",
       "50%       16.000000      9.000000   2001.000000      3.000000      5.000000   \n",
       "75%       24.000000     10.000000   2001.000000      3.000000      7.000000   \n",
       "max       31.000000     12.000000   2002.000000      4.000000      9.000000   \n",
       "\n",
       "           ...         SOL12ABDEP   SOLP12ABDEP    HAL12ABDEP   HALP12ABDEP  \\\n",
       "count      ...       43093.000000  43093.000000  43093.000000  43093.000000   \n",
       "mean       ...           0.000255      0.003922      0.001532      0.017776   \n",
       "std        ...           0.018655      0.079789      0.050501      0.169523   \n",
       "min        ...           0.000000      0.000000      0.000000      0.000000   \n",
       "25%        ...           0.000000      0.000000      0.000000      0.000000   \n",
       "50%        ...           0.000000      0.000000      0.000000      0.000000   \n",
       "75%        ...           0.000000      0.000000      0.000000      0.000000   \n",
       "max        ...           2.000000      3.000000      3.000000      3.000000   \n",
       "\n",
       "         MAR12ABDEP   MARP12ABDEP    HER12ABDEP   HERP12ABDEP   OTHB12ABDEP  \\\n",
       "count  43093.000000  43093.000000  43093.000000  43093.000000  43093.000000   \n",
       "mean       0.018634      0.095027      0.000348      0.004618      0.000093   \n",
       "std        0.186201      0.383204      0.030082      0.106426      0.015233   \n",
       "min        0.000000      0.000000      0.000000      0.000000      0.000000   \n",
       "25%        0.000000      0.000000      0.000000      0.000000      0.000000   \n",
       "50%        0.000000      0.000000      0.000000      0.000000      0.000000   \n",
       "75%        0.000000      0.000000      0.000000      0.000000      0.000000   \n",
       "max        3.000000      3.000000      3.000000      3.000000      3.000000   \n",
       "\n",
       "       OTHBP12ABDEP  \n",
       "count  43093.000000  \n",
       "mean       0.001230  \n",
       "std        0.047429  \n",
       "min        0.000000  \n",
       "25%        0.000000  \n",
       "50%        0.000000  \n",
       "75%        0.000000  \n",
       "max        3.000000  \n",
       "\n",
       "[8 rows x 665 columns]"
      ]
     },
     "execution_count": 6,
     "metadata": {},
     "output_type": "execute_result"
    }
   ],
   "source": [
    "data_clean.describe()"
   ]
  },
  {
   "cell_type": "code",
   "execution_count": 7,
   "metadata": {
    "collapsed": true
   },
   "outputs": [],
   "source": [
    "#Split into training and testing sets\n",
    "\n",
    "predictors = data_clean[['NUMREL','FATHERIH','MOTHERIH','ADULTCH','OTHREL','NONREL','SEX']]\n",
    "\n",
    "#Target; Alcohol over\n",
    "targets = data_clean.S2AQ1\n",
    "\n",
    "pred_train, pred_test, tar_train, tar_test  = train_test_split(predictors, targets, test_size=.4)"
   ]
  },
  {
   "cell_type": "code",
   "execution_count": 8,
   "metadata": {
    "collapsed": false
   },
   "outputs": [
    {
     "data": {
      "text/plain": [
       "(25855, 7)"
      ]
     },
     "execution_count": 8,
     "metadata": {},
     "output_type": "execute_result"
    }
   ],
   "source": [
    "pred_train.shape"
   ]
  },
  {
   "cell_type": "code",
   "execution_count": 9,
   "metadata": {
    "collapsed": false
   },
   "outputs": [
    {
     "data": {
      "text/plain": [
       "(17238, 7)"
      ]
     },
     "execution_count": 9,
     "metadata": {},
     "output_type": "execute_result"
    }
   ],
   "source": [
    "pred_test.shape"
   ]
  },
  {
   "cell_type": "code",
   "execution_count": 10,
   "metadata": {
    "collapsed": false
   },
   "outputs": [
    {
     "data": {
      "text/plain": [
       "(25855,)"
      ]
     },
     "execution_count": 10,
     "metadata": {},
     "output_type": "execute_result"
    }
   ],
   "source": [
    "tar_train.shape"
   ]
  },
  {
   "cell_type": "code",
   "execution_count": 11,
   "metadata": {
    "collapsed": false
   },
   "outputs": [
    {
     "data": {
      "text/plain": [
       "(17238,)"
      ]
     },
     "execution_count": 11,
     "metadata": {},
     "output_type": "execute_result"
    }
   ],
   "source": [
    "tar_test.shape"
   ]
  },
  {
   "cell_type": "code",
   "execution_count": 12,
   "metadata": {
    "collapsed": false
   },
   "outputs": [],
   "source": [
    "from sklearn.ensemble import RandomForestClassifier\n",
    "\n",
    "classifier=RandomForestClassifier(n_estimators=25)\n",
    "classifier=classifier.fit(pred_train,tar_train)\n",
    "\n",
    "predictions=classifier.predict(pred_test)"
   ]
  },
  {
   "cell_type": "code",
   "execution_count": 13,
   "metadata": {
    "collapsed": false
   },
   "outputs": [
    {
     "data": {
      "text/plain": [
       "array([[13821,   103],\n",
       "       [ 3246,    68]])"
      ]
     },
     "execution_count": 13,
     "metadata": {},
     "output_type": "execute_result"
    }
   ],
   "source": [
    "sklearn.metrics.confusion_matrix(tar_test,predictions)"
   ]
  },
  {
   "cell_type": "code",
   "execution_count": 14,
   "metadata": {
    "collapsed": false
   },
   "outputs": [
    {
     "data": {
      "text/plain": [
       "0.8057199211045365"
      ]
     },
     "execution_count": 14,
     "metadata": {},
     "output_type": "execute_result"
    }
   ],
   "source": [
    "sklearn.metrics.accuracy_score(tar_test, predictions)"
   ]
  },
  {
   "cell_type": "code",
   "execution_count": 15,
   "metadata": {
    "collapsed": false
   },
   "outputs": [
    {
     "name": "stdout",
     "output_type": "stream",
     "text": [
      "[ 0.25971821  0.03109818  0.06717772  0.03659551  0.04031468  0.12215325\n",
      "  0.44294244]\n"
     ]
    }
   ],
   "source": [
    "# fit an Extra Trees model to the data\n",
    "model = ExtraTreesClassifier()\n",
    "model.fit(pred_train,tar_train)\n",
    "# display the relative importance of each attribute\n",
    "print(model.feature_importances_)"
   ]
  },
  {
   "cell_type": "code",
   "execution_count": 16,
   "metadata": {
    "collapsed": false
   },
   "outputs": [],
   "source": [
    "trees=range(25)\n",
    "accuracy=np.zeros(25)"
   ]
  },
  {
   "cell_type": "code",
   "execution_count": 17,
   "metadata": {
    "collapsed": false
   },
   "outputs": [],
   "source": [
    "for idx in range(len(trees)):\n",
    "   classifier=RandomForestClassifier(n_estimators=idx + 1)\n",
    "   classifier=classifier.fit(pred_train,tar_train)\n",
    "   predictions=classifier.predict(pred_test)\n",
    "   accuracy[idx]=sklearn.metrics.accuracy_score(tar_test, predictions)"
   ]
  },
  {
   "cell_type": "code",
   "execution_count": 18,
   "metadata": {
    "collapsed": false
   },
   "outputs": [],
   "source": [
    "%matplotlib inline"
   ]
  },
  {
   "cell_type": "code",
   "execution_count": 19,
   "metadata": {
    "collapsed": false
   },
   "outputs": [
    {
     "data": {
      "text/plain": [
       "[<matplotlib.lines.Line2D at 0x164305908>]"
      ]
     },
     "execution_count": 19,
     "metadata": {},
     "output_type": "execute_result"
    },
    {
     "data": {
      "image/png": "[encoded data removed]",
      "text/plain": [
       "<matplotlib.figure.Figure at 0x10c4cb0f0>"
      ]
     },
     "metadata": {},
     "output_type": "display_data"
    }
   ],
   "source": [
    "plt.plot(trees, accuracy)"
   ]
  },
  {
   "cell_type": "code",
   "execution_count": null,
   "metadata": {
    "collapsed": true
   },
   "outputs": [],
   "source": []
  }
 ],
 "metadata": {
  "kernelspec": {
   "display_name": "Python 3",
   "language": "python",
   "name": "python3"
  },
  "language_info": {
   "codemirror_mode": {
    "name": "ipython",
    "version": 3
   },
   "file_extension": ".py",
   "mimetype": "text/x-python",
   "name": "python",
   "nbconvert_exporter": "python",
   "pygments_lexer": "ipython3",
   "version": "3.5.1"
  }
 },
 "nbformat": 4,
 "nbformat_minor": 0
}
